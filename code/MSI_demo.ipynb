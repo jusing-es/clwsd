{
 "cells": [
  {
   "cell_type": "code",
   "execution_count": 9,
   "metadata": {},
   "outputs": [],
   "source": [
    "import json_files_reader as jfr\n",
    "from nltk.corpus import wordnet as wn\n",
    "import msi_utils as msiu\n",
    "import msi as msi\n",
    "from pprint import pprint"
   ]
  },
  {
   "cell_type": "code",
   "execution_count": 2,
   "metadata": {},
   "outputs": [],
   "source": [
    "# load MPC\n",
    "langs = ['eng', 'ita', 'jpn', 'ron']\n",
    "path_to_files = '../files/json_files'\n",
    "\n",
    "multilingual_corpus = jfr.read_input_files(path_to_files, langs)"
   ]
  },
  {
   "cell_type": "code",
   "execution_count": 3,
   "metadata": {},
   "outputs": [
    {
     "name": "stdout",
     "output_type": "stream",
     "text": [
      "4\n"
     ]
    }
   ],
   "source": [
    "# how many monolingual corpora in multilingual_corpus?\n",
    "print(len(multilingual_corpus))"
   ]
  },
  {
   "cell_type": "code",
   "execution_count": 7,
   "metadata": {},
   "outputs": [
    {
     "name": "stdout",
     "output_type": "stream",
     "text": [
      "jpn_sc: 49 documents\n",
      "eng_sc: 49 documents\n",
      "ita_sc: 49 documents\n",
      "ron_sc: 49 documents\n"
     ]
    }
   ],
   "source": [
    "# how many texts in each component?\n",
    "for corpus_id, corpus in multilingual_corpus.corpora.items():\n",
    "    print(f'{corpus_id}: {len(corpus)} documents')"
   ]
  },
  {
   "cell_type": "code",
   "execution_count": 11,
   "metadata": {
    "scrolled": true
   },
   "outputs": [
    {
     "name": "stdout",
     "output_type": "stream",
     "text": [
      "{'__args__': [],\n",
      " '__class__': 'Sentence',\n",
      " '__kw__': {'document': 'a01',\n",
      "            'id': 's_1',\n",
      "            'text': 'Fulton_County_Grand_Jury said Friday investigation '\n",
      "                    'Atlanta recent primary_election produced evidence '\n",
      "                    'irregularities took_place',\n",
      "            'tokens': {'t_1_10': <corpus.Word object at 0x7fdb7c8c5ca8>,\n",
      "                       't_1_11': <corpus.Word object at 0x7fdb7c8c5d38>,\n",
      "                       't_1_12': <corpus.Word object at 0x7fdb7c8c5dc8>,\n",
      "                       't_1_15': <corpus.Word object at 0x7fdb7c8c5e58>,\n",
      "                       't_1_19': <corpus.Word object at 0x7fdb7c8c5ee8>,\n",
      "                       't_1_2': <corpus.Word object at 0x7fdb7c8c59d8>,\n",
      "                       't_1_20': <corpus.Word object at 0x7fdb7c8c5f78>,\n",
      "                       't_1_3': <corpus.Word object at 0x7fdb7c8c5a68>,\n",
      "                       't_1_4': <corpus.Word object at 0x7fdb7c8c5af8>,\n",
      "                       't_1_6': <corpus.Word object at 0x7fdb7c8c5b88>,\n",
      "                       't_1_8': <corpus.Word object at 0x7fdb7c8c5c18>}}}\n"
     ]
    }
   ],
   "source": [
    "# what's in a sentence? (only content words are displayed for simplicity)\n",
    "pprint(multilingual_corpus['eng_sc']['a01']['s_1'].to_json())"
   ]
  },
  {
   "cell_type": "code",
   "execution_count": 12,
   "metadata": {},
   "outputs": [
    {
     "name": "stdout",
     "output_type": "stream",
     "text": [
      "{'__args__': [],\n",
      " '__class__': 'Word',\n",
      " '__kw__': {'alignments': {'ita': <corpus.Word object at 0x7fdb7a61a4c8>,\n",
      "                           'jpn': <corpus.Word object at 0x7fdb78356798>},\n",
      "            'document': 'a01',\n",
      "            'equivalent_wn_senses': [],\n",
      "            'external_sense': None,\n",
      "            'id': 't_1_4',\n",
      "            'lang': 'eng',\n",
      "            'lemma': 'friday',\n",
      "            'msi_annotation': None,\n",
      "            'pos': 'n',\n",
      "            'sense': '15164463-n',\n",
      "            'sentence': 's_1',\n",
      "            'surface_form': 'Friday'}}\n"
     ]
    }
   ],
   "source": [
    "# and what's in a token, then? Here we are looking at the 4th token in sentence 1, document a01, English SemCor\n",
    "pprint(multilingual_corpus['eng_sc']['a01']['s_1']['t_1_4'].to_json())"
   ]
  },
  {
   "cell_type": "markdown",
   "metadata": {},
   "source": [
    "The token above has word alignment to Italian and Japanese. \n",
    "Also note that, since MSI has not yet been performed, the ```msi_annotation``` attribute is None."
   ]
  },
  {
   "cell_type": "code",
   "execution_count": 32,
   "metadata": {
    "scrolled": true
   },
   "outputs": [
    {
     "name": "stdout",
     "output_type": "stream",
     "text": [
      "{'__args__': [],\n",
      " '__class__': 'Word',\n",
      " '__kw__': {'alignments': {'eng': <corpus.Word object at 0x7fdb7c8c5af8>,\n",
      "                           'ron': <corpus.Word object at 0x7fdb75007168>},\n",
      "            'document': 'a01',\n",
      "            'equivalent_wn_senses': [],\n",
      "            'external_sense': None,\n",
      "            'id': 't_1_1',\n",
      "            'lang': 'ita',\n",
      "            'lemma': 'venerdì',\n",
      "            'msi_annotation': None,\n",
      "            'pos': 'n',\n",
      "            'sense': '15164463-n',\n",
      "            'sentence': 's_1',\n",
      "            'surface_form': 'Venerdì'}}\n",
      "{'__args__': [],\n",
      " '__class__': 'Word',\n",
      " '__kw__': {'alignments': {'eng': <corpus.Word object at 0x7fdb7c8c5af8>},\n",
      "            'document': 'a01',\n",
      "            'equivalent_wn_senses': ['15164463-n'],\n",
      "            'external_sense': '金曜日-n',\n",
      "            'id': 'w1.1.6',\n",
      "            'lang': 'jpn',\n",
      "            'lemma': '金曜日',\n",
      "            'msi_annotation': None,\n",
      "            'pos': 'n',\n",
      "            'sense': '15164463-n',\n",
      "            'sentence': 's_1',\n",
      "            'surface_form': '金曜日'}}\n"
     ]
    }
   ],
   "source": [
    "# let's check out the alignments\n",
    "target_word = multilingual_corpus['eng_sc']['a01']['s_1']['t_1_4']\n",
    "for language_aligned in target_word.alignments:\n",
    "    pprint(target_word.alignments[language_aligned].to_json())"
   ]
  },
  {
   "cell_type": "markdown",
   "metadata": {},
   "source": [
    "Japanese tokens may look a little different - they have external sense tagging, too!"
   ]
  },
  {
   "cell_type": "code",
   "execution_count": 18,
   "metadata": {},
   "outputs": [
    {
     "name": "stdout",
     "output_type": "stream",
     "text": [
      "{'__args__': [],\n",
      " '__class__': 'Word',\n",
      " '__kw__': {'alignments': {},\n",
      "            'document': 'a01',\n",
      "            'equivalent_wn_senses': ['00664788-v',\n",
      "                                     '00772640-v',\n",
      "                                     '00772967-v',\n",
      "                                     '00820976-v',\n",
      "                                     '00921300-v',\n",
      "                                     '00921738-v',\n",
      "                                     '00922867-v',\n",
      "                                     '00923307-v',\n",
      "                                     '00923793-v',\n",
      "                                     '00924612-v',\n",
      "                                     '00928015-v',\n",
      "                                     '00931467-v',\n",
      "                                     '00932161-v',\n",
      "                                     '00936330-v',\n",
      "                                     '00943837-v',\n",
      "                                     '00987071-v',\n",
      "                                     '01015244-v',\n",
      "                                     '01061481-v',\n",
      "                                     '02136892-v',\n",
      "                                     '02137132-v',\n",
      "                                     '02140033-v',\n",
      "                                     '02631856-v'],\n",
      "            'external_sense': '示す-v',\n",
      "            'id': 'w1.1.36',\n",
      "            'lang': 'jpn',\n",
      "            'lemma': '示す',\n",
      "            'msi_annotation': None,\n",
      "            'pos': 'v',\n",
      "            'sense': None,\n",
      "            'sentence': 's_1',\n",
      "            'surface_form': '示す'}}\n"
     ]
    }
   ],
   "source": [
    "pprint(multilingual_corpus['jpn_sc']['a01']['s_1']['w1.1.36'].to_json())"
   ]
  },
  {
   "cell_type": "code",
   "execution_count": 33,
   "metadata": {},
   "outputs": [
    {
     "ename": "NameError",
     "evalue": "name 'apply_msi_to_corpus' is not defined",
     "output_type": "error",
     "traceback": [
      "\u001b[0;31m---------------------------------------------------------------------------\u001b[0m",
      "\u001b[0;31mNameError\u001b[0m                                 Traceback (most recent call last)",
      "\u001b[0;32m<ipython-input-33-1bca8f19a312>\u001b[0m in \u001b[0;36m<module>\u001b[0;34m\u001b[0m\n\u001b[1;32m      1\u001b[0m \u001b[0;31m# run MSI\u001b[0m\u001b[0;34m\u001b[0m\u001b[0;34m\u001b[0m\u001b[0m\n\u001b[0;32m----> 2\u001b[0;31m \u001b[0mapply_msi_to_corpus\u001b[0m\u001b[0;34m(\u001b[0m\u001b[0mmultilingual_corpus\u001b[0m\u001b[0;34m,\u001b[0m \u001b[0mlangs\u001b[0m\u001b[0;34m,\u001b[0m \u001b[0muse_general_mfs_statistics\u001b[0m\u001b[0;34m)\u001b[0m\u001b[0;34m\u001b[0m\u001b[0m\n\u001b[0m\u001b[1;32m      3\u001b[0m \u001b[0mprint\u001b[0m\u001b[0;34m(\u001b[0m\u001b[0;34m\"Starting MSI...\"\u001b[0m\u001b[0;34m)\u001b[0m\u001b[0;34m\u001b[0m\u001b[0m\n\u001b[1;32m      4\u001b[0m \u001b[0mevaluate_msi\u001b[0m\u001b[0;34m(\u001b[0m\u001b[0mmultilingual_corpus\u001b[0m\u001b[0;34m)\u001b[0m\u001b[0;34m\u001b[0m\u001b[0m\n",
      "\u001b[0;31mNameError\u001b[0m: name 'apply_msi_to_corpus' is not defined"
     ]
    }
   ],
   "source": [
    "# run MSI\n",
    "msi.apply_msi_to_corpus(multilingual_corpus, langs, use_general_mfs_statistics)\n",
    "print(\"Starting MSI...\")\n",
    "msi.evaluate_msi(multilingual_corpus)"
   ]
  },
  {
   "cell_type": "code",
   "execution_count": null,
   "metadata": {},
   "outputs": [],
   "source": [
    "# "
   ]
  }
 ],
 "metadata": {
  "kernelspec": {
   "display_name": "Python 3",
   "language": "python",
   "name": "python3"
  },
  "language_info": {
   "codemirror_mode": {
    "name": "ipython",
    "version": 3
   },
   "file_extension": ".py",
   "mimetype": "text/x-python",
   "name": "python",
   "nbconvert_exporter": "python",
   "pygments_lexer": "ipython3",
   "version": "3.6.5"
  }
 },
 "nbformat": 4,
 "nbformat_minor": 2
}
